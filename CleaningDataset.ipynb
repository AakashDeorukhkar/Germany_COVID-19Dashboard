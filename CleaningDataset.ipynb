{
 "cells": [
  {
   "cell_type": "markdown",
   "id": "7f5f6c1b",
   "metadata": {},
   "source": [
    "### Importing all the necessary libraries for data processing"
   ]
  },
  {
   "cell_type": "code",
   "execution_count": 1,
   "id": "9db05f7f",
   "metadata": {},
   "outputs": [],
   "source": [
    "import pandas as pd\n",
    "import numpy as np\n",
    "import matplotlib.pyplot as plt\n",
    "import seaborn as sns"
   ]
  },
  {
   "cell_type": "markdown",
   "id": "0a061810",
   "metadata": {},
   "source": [
    "Importing the unprocessed dataset"
   ]
  },
  {
   "cell_type": "code",
   "execution_count": 2,
   "id": "2f437c17",
   "metadata": {},
   "outputs": [],
   "source": [
    "death_rec = pd.read_csv(\"/Users/aakashdeorukhkar/Desktop/MSIS/Project Management/COVID_19 Datasets/covid_de.csv\")"
   ]
  },
  {
   "cell_type": "code",
   "execution_count": 3,
   "id": "5f92c80a",
   "metadata": {},
   "outputs": [
    {
     "data": {
      "text/html": [
       "<div>\n",
       "<style scoped>\n",
       "    .dataframe tbody tr th:only-of-type {\n",
       "        vertical-align: middle;\n",
       "    }\n",
       "\n",
       "    .dataframe tbody tr th {\n",
       "        vertical-align: top;\n",
       "    }\n",
       "\n",
       "    .dataframe thead th {\n",
       "        text-align: right;\n",
       "    }\n",
       "</style>\n",
       "<table border=\"1\" class=\"dataframe\">\n",
       "  <thead>\n",
       "    <tr style=\"text-align: right;\">\n",
       "      <th></th>\n",
       "      <th>state</th>\n",
       "      <th>county</th>\n",
       "      <th>age_group</th>\n",
       "      <th>gender</th>\n",
       "      <th>date</th>\n",
       "      <th>cases</th>\n",
       "      <th>deaths</th>\n",
       "      <th>recovered</th>\n",
       "    </tr>\n",
       "  </thead>\n",
       "  <tbody>\n",
       "    <tr>\n",
       "      <th>0</th>\n",
       "      <td>Baden-Wuerttemberg</td>\n",
       "      <td>LK Alb-Donau-Kreis</td>\n",
       "      <td>00-04</td>\n",
       "      <td>F</td>\n",
       "      <td>2020-03-27</td>\n",
       "      <td>1</td>\n",
       "      <td>0</td>\n",
       "      <td>1</td>\n",
       "    </tr>\n",
       "    <tr>\n",
       "      <th>1</th>\n",
       "      <td>Baden-Wuerttemberg</td>\n",
       "      <td>LK Alb-Donau-Kreis</td>\n",
       "      <td>00-04</td>\n",
       "      <td>F</td>\n",
       "      <td>2020-03-28</td>\n",
       "      <td>1</td>\n",
       "      <td>0</td>\n",
       "      <td>1</td>\n",
       "    </tr>\n",
       "    <tr>\n",
       "      <th>2</th>\n",
       "      <td>Baden-Wuerttemberg</td>\n",
       "      <td>LK Alb-Donau-Kreis</td>\n",
       "      <td>00-04</td>\n",
       "      <td>F</td>\n",
       "      <td>2020-04-03</td>\n",
       "      <td>1</td>\n",
       "      <td>0</td>\n",
       "      <td>1</td>\n",
       "    </tr>\n",
       "    <tr>\n",
       "      <th>3</th>\n",
       "      <td>Baden-Wuerttemberg</td>\n",
       "      <td>LK Alb-Donau-Kreis</td>\n",
       "      <td>00-04</td>\n",
       "      <td>F</td>\n",
       "      <td>2020-10-18</td>\n",
       "      <td>1</td>\n",
       "      <td>0</td>\n",
       "      <td>1</td>\n",
       "    </tr>\n",
       "    <tr>\n",
       "      <th>4</th>\n",
       "      <td>Baden-Wuerttemberg</td>\n",
       "      <td>LK Alb-Donau-Kreis</td>\n",
       "      <td>00-04</td>\n",
       "      <td>F</td>\n",
       "      <td>2020-10-22</td>\n",
       "      <td>1</td>\n",
       "      <td>0</td>\n",
       "      <td>1</td>\n",
       "    </tr>\n",
       "  </tbody>\n",
       "</table>\n",
       "</div>"
      ],
      "text/plain": [
       "                state              county age_group gender        date  cases  \\\n",
       "0  Baden-Wuerttemberg  LK Alb-Donau-Kreis     00-04      F  2020-03-27      1   \n",
       "1  Baden-Wuerttemberg  LK Alb-Donau-Kreis     00-04      F  2020-03-28      1   \n",
       "2  Baden-Wuerttemberg  LK Alb-Donau-Kreis     00-04      F  2020-04-03      1   \n",
       "3  Baden-Wuerttemberg  LK Alb-Donau-Kreis     00-04      F  2020-10-18      1   \n",
       "4  Baden-Wuerttemberg  LK Alb-Donau-Kreis     00-04      F  2020-10-22      1   \n",
       "\n",
       "   deaths  recovered  \n",
       "0       0          1  \n",
       "1       0          1  \n",
       "2       0          1  \n",
       "3       0          1  \n",
       "4       0          1  "
      ]
     },
     "execution_count": 3,
     "metadata": {},
     "output_type": "execute_result"
    }
   ],
   "source": [
    "death_rec.head()\n"
   ]
  },
  {
   "cell_type": "markdown",
   "id": "fa9f59fa",
   "metadata": {},
   "source": [
    "View all the columns in the dataset"
   ]
  },
  {
   "cell_type": "code",
   "execution_count": 4,
   "id": "0b12421d",
   "metadata": {},
   "outputs": [
    {
     "data": {
      "text/plain": [
       "Index(['state', 'county', 'age_group', 'gender', 'date', 'cases', 'deaths',\n",
       "       'recovered'],\n",
       "      dtype='object')"
      ]
     },
     "execution_count": 4,
     "metadata": {},
     "output_type": "execute_result"
    }
   ],
   "source": [
    "death_rec.columns"
   ]
  },
  {
   "cell_type": "markdown",
   "id": "9d629b88",
   "metadata": {},
   "source": [
    "Getting to know the dataset better with Describe() and Info()"
   ]
  },
  {
   "cell_type": "code",
   "execution_count": 5,
   "id": "167a7898",
   "metadata": {},
   "outputs": [
    {
     "data": {
      "text/html": [
       "<div>\n",
       "<style scoped>\n",
       "    .dataframe tbody tr th:only-of-type {\n",
       "        vertical-align: middle;\n",
       "    }\n",
       "\n",
       "    .dataframe tbody tr th {\n",
       "        vertical-align: top;\n",
       "    }\n",
       "\n",
       "    .dataframe thead th {\n",
       "        text-align: right;\n",
       "    }\n",
       "</style>\n",
       "<table border=\"1\" class=\"dataframe\">\n",
       "  <thead>\n",
       "    <tr style=\"text-align: right;\">\n",
       "      <th></th>\n",
       "      <th>cases</th>\n",
       "      <th>deaths</th>\n",
       "      <th>recovered</th>\n",
       "    </tr>\n",
       "  </thead>\n",
       "  <tbody>\n",
       "    <tr>\n",
       "      <th>count</th>\n",
       "      <td>1.202328e+06</td>\n",
       "      <td>1.202328e+06</td>\n",
       "      <td>1.202328e+06</td>\n",
       "    </tr>\n",
       "    <tr>\n",
       "      <th>mean</th>\n",
       "      <td>4.479205e+00</td>\n",
       "      <td>8.244256e-02</td>\n",
       "      <td>3.866867e+00</td>\n",
       "    </tr>\n",
       "    <tr>\n",
       "      <th>std</th>\n",
       "      <td>7.072767e+00</td>\n",
       "      <td>4.094498e-01</td>\n",
       "      <td>5.824677e+00</td>\n",
       "    </tr>\n",
       "    <tr>\n",
       "      <th>min</th>\n",
       "      <td>0.000000e+00</td>\n",
       "      <td>0.000000e+00</td>\n",
       "      <td>-1.000000e+00</td>\n",
       "    </tr>\n",
       "    <tr>\n",
       "      <th>25%</th>\n",
       "      <td>1.000000e+00</td>\n",
       "      <td>0.000000e+00</td>\n",
       "      <td>1.000000e+00</td>\n",
       "    </tr>\n",
       "    <tr>\n",
       "      <th>50%</th>\n",
       "      <td>2.000000e+00</td>\n",
       "      <td>0.000000e+00</td>\n",
       "      <td>2.000000e+00</td>\n",
       "    </tr>\n",
       "    <tr>\n",
       "      <th>75%</th>\n",
       "      <td>5.000000e+00</td>\n",
       "      <td>0.000000e+00</td>\n",
       "      <td>4.000000e+00</td>\n",
       "    </tr>\n",
       "    <tr>\n",
       "      <th>max</th>\n",
       "      <td>6.160000e+02</td>\n",
       "      <td>2.100000e+01</td>\n",
       "      <td>1.680000e+02</td>\n",
       "    </tr>\n",
       "  </tbody>\n",
       "</table>\n",
       "</div>"
      ],
      "text/plain": [
       "              cases        deaths     recovered\n",
       "count  1.202328e+06  1.202328e+06  1.202328e+06\n",
       "mean   4.479205e+00  8.244256e-02  3.866867e+00\n",
       "std    7.072767e+00  4.094498e-01  5.824677e+00\n",
       "min    0.000000e+00  0.000000e+00 -1.000000e+00\n",
       "25%    1.000000e+00  0.000000e+00  1.000000e+00\n",
       "50%    2.000000e+00  0.000000e+00  2.000000e+00\n",
       "75%    5.000000e+00  0.000000e+00  4.000000e+00\n",
       "max    6.160000e+02  2.100000e+01  1.680000e+02"
      ]
     },
     "execution_count": 5,
     "metadata": {},
     "output_type": "execute_result"
    }
   ],
   "source": [
    "death_rec.describe()"
   ]
  },
  {
   "cell_type": "code",
   "execution_count": 6,
   "id": "0bab6e41",
   "metadata": {},
   "outputs": [
    {
     "name": "stdout",
     "output_type": "stream",
     "text": [
      "<class 'pandas.core.frame.DataFrame'>\n",
      "RangeIndex: 1202328 entries, 0 to 1202327\n",
      "Data columns (total 8 columns):\n",
      " #   Column     Non-Null Count    Dtype \n",
      "---  ------     --------------    ----- \n",
      " 0   state      1202328 non-null  object\n",
      " 1   county     1202328 non-null  object\n",
      " 2   age_group  1199728 non-null  object\n",
      " 3   gender     1180761 non-null  object\n",
      " 4   date       1202328 non-null  object\n",
      " 5   cases      1202328 non-null  int64 \n",
      " 6   deaths     1202328 non-null  int64 \n",
      " 7   recovered  1202328 non-null  int64 \n",
      "dtypes: int64(3), object(5)\n",
      "memory usage: 73.4+ MB\n"
     ]
    }
   ],
   "source": [
    "death_rec.info()"
   ]
  },
  {
   "cell_type": "markdown",
   "id": "1994368d",
   "metadata": {},
   "source": [
    "Checking for Null data"
   ]
  },
  {
   "cell_type": "code",
   "execution_count": 7,
   "id": "a0ab8dd2",
   "metadata": {},
   "outputs": [
    {
     "data": {
      "text/plain": [
       "state            0\n",
       "county           0\n",
       "age_group     2600\n",
       "gender       21567\n",
       "date             0\n",
       "cases            0\n",
       "deaths           0\n",
       "recovered        0\n",
       "dtype: int64"
      ]
     },
     "execution_count": 7,
     "metadata": {},
     "output_type": "execute_result"
    }
   ],
   "source": [
    "death_rec.isna().sum()"
   ]
  },
  {
   "cell_type": "markdown",
   "id": "45f93a19",
   "metadata": {},
   "source": [
    "Copying the dataset so we do not make any changes to the original dataset"
   ]
  },
  {
   "cell_type": "code",
   "execution_count": 8,
   "id": "a7d8c2fa",
   "metadata": {},
   "outputs": [],
   "source": [
    "de = death_rec.copy()"
   ]
  },
  {
   "cell_type": "code",
   "execution_count": 9,
   "id": "909b4806",
   "metadata": {},
   "outputs": [
    {
     "data": {
      "text/html": [
       "<div>\n",
       "<style scoped>\n",
       "    .dataframe tbody tr th:only-of-type {\n",
       "        vertical-align: middle;\n",
       "    }\n",
       "\n",
       "    .dataframe tbody tr th {\n",
       "        vertical-align: top;\n",
       "    }\n",
       "\n",
       "    .dataframe thead th {\n",
       "        text-align: right;\n",
       "    }\n",
       "</style>\n",
       "<table border=\"1\" class=\"dataframe\">\n",
       "  <thead>\n",
       "    <tr style=\"text-align: right;\">\n",
       "      <th></th>\n",
       "      <th>state</th>\n",
       "      <th>county</th>\n",
       "      <th>age_group</th>\n",
       "      <th>gender</th>\n",
       "      <th>date</th>\n",
       "      <th>cases</th>\n",
       "      <th>deaths</th>\n",
       "      <th>recovered</th>\n",
       "    </tr>\n",
       "  </thead>\n",
       "  <tbody>\n",
       "    <tr>\n",
       "      <th>0</th>\n",
       "      <td>Baden-Wuerttemberg</td>\n",
       "      <td>LK Alb-Donau-Kreis</td>\n",
       "      <td>00-04</td>\n",
       "      <td>F</td>\n",
       "      <td>2020-03-27</td>\n",
       "      <td>1</td>\n",
       "      <td>0</td>\n",
       "      <td>1</td>\n",
       "    </tr>\n",
       "    <tr>\n",
       "      <th>1</th>\n",
       "      <td>Baden-Wuerttemberg</td>\n",
       "      <td>LK Alb-Donau-Kreis</td>\n",
       "      <td>00-04</td>\n",
       "      <td>F</td>\n",
       "      <td>2020-03-28</td>\n",
       "      <td>1</td>\n",
       "      <td>0</td>\n",
       "      <td>1</td>\n",
       "    </tr>\n",
       "    <tr>\n",
       "      <th>2</th>\n",
       "      <td>Baden-Wuerttemberg</td>\n",
       "      <td>LK Alb-Donau-Kreis</td>\n",
       "      <td>00-04</td>\n",
       "      <td>F</td>\n",
       "      <td>2020-04-03</td>\n",
       "      <td>1</td>\n",
       "      <td>0</td>\n",
       "      <td>1</td>\n",
       "    </tr>\n",
       "    <tr>\n",
       "      <th>3</th>\n",
       "      <td>Baden-Wuerttemberg</td>\n",
       "      <td>LK Alb-Donau-Kreis</td>\n",
       "      <td>00-04</td>\n",
       "      <td>F</td>\n",
       "      <td>2020-10-18</td>\n",
       "      <td>1</td>\n",
       "      <td>0</td>\n",
       "      <td>1</td>\n",
       "    </tr>\n",
       "    <tr>\n",
       "      <th>4</th>\n",
       "      <td>Baden-Wuerttemberg</td>\n",
       "      <td>LK Alb-Donau-Kreis</td>\n",
       "      <td>00-04</td>\n",
       "      <td>F</td>\n",
       "      <td>2020-10-22</td>\n",
       "      <td>1</td>\n",
       "      <td>0</td>\n",
       "      <td>1</td>\n",
       "    </tr>\n",
       "    <tr>\n",
       "      <th>...</th>\n",
       "      <td>...</td>\n",
       "      <td>...</td>\n",
       "      <td>...</td>\n",
       "      <td>...</td>\n",
       "      <td>...</td>\n",
       "      <td>...</td>\n",
       "      <td>...</td>\n",
       "      <td>...</td>\n",
       "    </tr>\n",
       "    <tr>\n",
       "      <th>1202323</th>\n",
       "      <td>Thueringen</td>\n",
       "      <td>SK Weimar</td>\n",
       "      <td>NaN</td>\n",
       "      <td>M</td>\n",
       "      <td>2021-11-12</td>\n",
       "      <td>1</td>\n",
       "      <td>0</td>\n",
       "      <td>0</td>\n",
       "    </tr>\n",
       "    <tr>\n",
       "      <th>1202324</th>\n",
       "      <td>Thueringen</td>\n",
       "      <td>SK Weimar</td>\n",
       "      <td>NaN</td>\n",
       "      <td>M</td>\n",
       "      <td>2021-11-15</td>\n",
       "      <td>1</td>\n",
       "      <td>0</td>\n",
       "      <td>0</td>\n",
       "    </tr>\n",
       "    <tr>\n",
       "      <th>1202325</th>\n",
       "      <td>Thueringen</td>\n",
       "      <td>SK Weimar</td>\n",
       "      <td>NaN</td>\n",
       "      <td>M</td>\n",
       "      <td>2021-11-16</td>\n",
       "      <td>1</td>\n",
       "      <td>0</td>\n",
       "      <td>0</td>\n",
       "    </tr>\n",
       "    <tr>\n",
       "      <th>1202326</th>\n",
       "      <td>Thueringen</td>\n",
       "      <td>SK Weimar</td>\n",
       "      <td>NaN</td>\n",
       "      <td>M</td>\n",
       "      <td>2021-11-17</td>\n",
       "      <td>1</td>\n",
       "      <td>0</td>\n",
       "      <td>0</td>\n",
       "    </tr>\n",
       "    <tr>\n",
       "      <th>1202327</th>\n",
       "      <td>Thueringen</td>\n",
       "      <td>SK Weimar</td>\n",
       "      <td>NaN</td>\n",
       "      <td>M</td>\n",
       "      <td>2021-11-19</td>\n",
       "      <td>1</td>\n",
       "      <td>0</td>\n",
       "      <td>0</td>\n",
       "    </tr>\n",
       "  </tbody>\n",
       "</table>\n",
       "<p>1202328 rows × 8 columns</p>\n",
       "</div>"
      ],
      "text/plain": [
       "                      state              county age_group gender        date  \\\n",
       "0        Baden-Wuerttemberg  LK Alb-Donau-Kreis     00-04      F  2020-03-27   \n",
       "1        Baden-Wuerttemberg  LK Alb-Donau-Kreis     00-04      F  2020-03-28   \n",
       "2        Baden-Wuerttemberg  LK Alb-Donau-Kreis     00-04      F  2020-04-03   \n",
       "3        Baden-Wuerttemberg  LK Alb-Donau-Kreis     00-04      F  2020-10-18   \n",
       "4        Baden-Wuerttemberg  LK Alb-Donau-Kreis     00-04      F  2020-10-22   \n",
       "...                     ...                 ...       ...    ...         ...   \n",
       "1202323          Thueringen           SK Weimar       NaN      M  2021-11-12   \n",
       "1202324          Thueringen           SK Weimar       NaN      M  2021-11-15   \n",
       "1202325          Thueringen           SK Weimar       NaN      M  2021-11-16   \n",
       "1202326          Thueringen           SK Weimar       NaN      M  2021-11-17   \n",
       "1202327          Thueringen           SK Weimar       NaN      M  2021-11-19   \n",
       "\n",
       "         cases  deaths  recovered  \n",
       "0            1       0          1  \n",
       "1            1       0          1  \n",
       "2            1       0          1  \n",
       "3            1       0          1  \n",
       "4            1       0          1  \n",
       "...        ...     ...        ...  \n",
       "1202323      1       0          0  \n",
       "1202324      1       0          0  \n",
       "1202325      1       0          0  \n",
       "1202326      1       0          0  \n",
       "1202327      1       0          0  \n",
       "\n",
       "[1202328 rows x 8 columns]"
      ]
     },
     "execution_count": 9,
     "metadata": {},
     "output_type": "execute_result"
    }
   ],
   "source": [
    "de"
   ]
  },
  {
   "cell_type": "code",
   "execution_count": 10,
   "id": "76bae85d",
   "metadata": {},
   "outputs": [
    {
     "data": {
      "text/plain": [
       "state            0\n",
       "county           0\n",
       "age_group     2600\n",
       "gender       21567\n",
       "date             0\n",
       "cases            0\n",
       "deaths           0\n",
       "recovered        0\n",
       "dtype: int64"
      ]
     },
     "execution_count": 10,
     "metadata": {},
     "output_type": "execute_result"
    }
   ],
   "source": [
    "de.isna().sum()\n"
   ]
  },
  {
   "cell_type": "markdown",
   "id": "aa7a3a4b",
   "metadata": {},
   "source": [
    "Checking how many unique values exist in each column "
   ]
  },
  {
   "cell_type": "code",
   "execution_count": 11,
   "id": "8dadd603",
   "metadata": {},
   "outputs": [
    {
     "data": {
      "text/plain": [
       "state         16\n",
       "county       411\n",
       "age_group      6\n",
       "gender         2\n",
       "date         652\n",
       "cases        215\n",
       "deaths        21\n",
       "recovered    143\n",
       "dtype: int64"
      ]
     },
     "execution_count": 11,
     "metadata": {},
     "output_type": "execute_result"
    }
   ],
   "source": [
    "de.nunique()"
   ]
  },
  {
   "cell_type": "markdown",
   "id": "f1f553d8",
   "metadata": {},
   "source": [
    "Creating a countplot of age-group"
   ]
  },
  {
   "cell_type": "code",
   "execution_count": 12,
   "id": "227e5950",
   "metadata": {},
   "outputs": [
    {
     "data": {
      "image/png": "[encoded data removed]",
      "text/plain": [
       "<Figure size 432x288 with 1 Axes>"
      ]
     },
     "metadata": {
      "needs_background": "light"
     },
     "output_type": "display_data"
    }
   ],
   "source": [
    "sns.countplot(x = de[\"age_group\"])\n",
    "plt.show()"
   ]
  },
  {
   "cell_type": "markdown",
   "id": "dfe8f5ba",
   "metadata": {},
   "source": [
    "Filling all the null values up with the highest repeated values i.e 35-59"
   ]
  },
  {
   "cell_type": "code",
   "execution_count": 13,
   "id": "543a684f",
   "metadata": {},
   "outputs": [],
   "source": [
    "de[\"age_group\"] = de[\"age_group\"].fillna(de[\"age_group\"].value_counts().index[0])  "
   ]
  },
  {
   "cell_type": "code",
   "execution_count": 14,
   "id": "a7f09e44",
   "metadata": {},
   "outputs": [
    {
     "data": {
      "text/plain": [
       "state            0\n",
       "county           0\n",
       "age_group        0\n",
       "gender       21567\n",
       "date             0\n",
       "cases            0\n",
       "deaths           0\n",
       "recovered        0\n",
       "dtype: int64"
      ]
     },
     "execution_count": 14,
     "metadata": {},
     "output_type": "execute_result"
    }
   ],
   "source": [
    "de.isna().sum()"
   ]
  },
  {
   "cell_type": "code",
   "execution_count": 15,
   "id": "2add019b",
   "metadata": {},
   "outputs": [
    {
     "data": {
      "text/plain": [
       "array(['00-04', '05-14', '15-34', '35-59', '60-79', '80-99'], dtype=object)"
      ]
     },
     "execution_count": 15,
     "metadata": {},
     "output_type": "execute_result"
    }
   ],
   "source": [
    "de.age_group.unique()"
   ]
  },
  {
   "cell_type": "code",
   "execution_count": null,
   "id": "f50adb3a",
   "metadata": {},
   "outputs": [],
   "source": [
    "Filling all the NA values from gender with U standing for Unknown "
   ]
  },
  {
   "cell_type": "code",
   "execution_count": 16,
   "id": "2c2cd2c0",
   "metadata": {},
   "outputs": [],
   "source": [
    "de[\"gender\"] = de[\"gender\"].fillna(\"U\")"
   ]
  },
  {
   "cell_type": "code",
   "execution_count": 17,
   "id": "0db19429",
   "metadata": {},
   "outputs": [
    {
     "data": {
      "text/plain": [
       "state        0\n",
       "county       0\n",
       "age_group    0\n",
       "gender       0\n",
       "date         0\n",
       "cases        0\n",
       "deaths       0\n",
       "recovered    0\n",
       "dtype: int64"
      ]
     },
     "execution_count": 17,
     "metadata": {},
     "output_type": "execute_result"
    }
   ],
   "source": [
    "de.isna().sum()"
   ]
  },
  {
   "cell_type": "code",
   "execution_count": 18,
   "id": "7f06bd6c",
   "metadata": {},
   "outputs": [],
   "source": [
    "#de.to_csv(\"clean_death_recovered.csv\")"
   ]
  },
  {
   "cell_type": "markdown",
   "id": "cfb5f37f",
   "metadata": {},
   "source": [
    "### Demographic file is clean now\n"
   ]
  },
  {
   "cell_type": "code",
   "execution_count": 19,
   "id": "bd4e031e",
   "metadata": {},
   "outputs": [
    {
     "data": {
      "text/plain": [
       "(1202328, 8)"
      ]
     },
     "execution_count": 19,
     "metadata": {},
     "output_type": "execute_result"
    }
   ],
   "source": [
    "de.shape"
   ]
  },
  {
   "cell_type": "code",
   "execution_count": 20,
   "id": "853d9a01",
   "metadata": {},
   "outputs": [
    {
     "data": {
      "text/plain": [
       "616"
      ]
     },
     "execution_count": 20,
     "metadata": {},
     "output_type": "execute_result"
    }
   ],
   "source": [
    "de.cases.max()"
   ]
  },
  {
   "cell_type": "code",
   "execution_count": 21,
   "id": "ff463c96",
   "metadata": {},
   "outputs": [
    {
     "data": {
      "text/plain": [
       "21"
      ]
     },
     "execution_count": 21,
     "metadata": {},
     "output_type": "execute_result"
    }
   ],
   "source": [
    "de.deaths.max()"
   ]
  },
  {
   "cell_type": "code",
   "execution_count": 22,
   "id": "550b897d",
   "metadata": {},
   "outputs": [
    {
     "name": "stdout",
     "output_type": "stream",
     "text": [
      "<class 'pandas.core.frame.DataFrame'>\n",
      "RangeIndex: 1202328 entries, 0 to 1202327\n",
      "Data columns (total 8 columns):\n",
      " #   Column     Non-Null Count    Dtype \n",
      "---  ------     --------------    ----- \n",
      " 0   state      1202328 non-null  object\n",
      " 1   county     1202328 non-null  object\n",
      " 2   age_group  1202328 non-null  object\n",
      " 3   gender     1202328 non-null  object\n",
      " 4   date       1202328 non-null  object\n",
      " 5   cases      1202328 non-null  int64 \n",
      " 6   deaths     1202328 non-null  int64 \n",
      " 7   recovered  1202328 non-null  int64 \n",
      "dtypes: int64(3), object(5)\n",
      "memory usage: 73.4+ MB\n"
     ]
    }
   ],
   "source": [
    "de.info()"
   ]
  },
  {
   "cell_type": "code",
   "execution_count": 23,
   "id": "89375175",
   "metadata": {},
   "outputs": [
    {
     "data": {
      "text/plain": [
       "0          1\n",
       "1          1\n",
       "2          1\n",
       "3          1\n",
       "4          1\n",
       "          ..\n",
       "1202323    1\n",
       "1202324    1\n",
       "1202325    1\n",
       "1202326    1\n",
       "1202327    1\n",
       "Name: cases, Length: 1202328, dtype: int64"
      ]
     },
     "execution_count": 23,
     "metadata": {},
     "output_type": "execute_result"
    }
   ],
   "source": [
    "de.cases"
   ]
  },
  {
   "cell_type": "code",
   "execution_count": 24,
   "id": "d68dc1da",
   "metadata": {},
   "outputs": [
    {
     "data": {
      "text/plain": [
       "616"
      ]
     },
     "execution_count": 24,
     "metadata": {},
     "output_type": "execute_result"
    }
   ],
   "source": [
    "death_rec.cases.max()\n"
   ]
  },
  {
   "cell_type": "code",
   "execution_count": 25,
   "id": "228732d0",
   "metadata": {},
   "outputs": [
    {
     "data": {
      "text/html": [
       "<div>\n",
       "<style scoped>\n",
       "    .dataframe tbody tr th:only-of-type {\n",
       "        vertical-align: middle;\n",
       "    }\n",
       "\n",
       "    .dataframe tbody tr th {\n",
       "        vertical-align: top;\n",
       "    }\n",
       "\n",
       "    .dataframe thead th {\n",
       "        text-align: right;\n",
       "    }\n",
       "</style>\n",
       "<table border=\"1\" class=\"dataframe\">\n",
       "  <thead>\n",
       "    <tr style=\"text-align: right;\">\n",
       "      <th></th>\n",
       "      <th>cases</th>\n",
       "      <th>deaths</th>\n",
       "      <th>recovered</th>\n",
       "    </tr>\n",
       "  </thead>\n",
       "  <tbody>\n",
       "    <tr>\n",
       "      <th>count</th>\n",
       "      <td>1.202328e+06</td>\n",
       "      <td>1.202328e+06</td>\n",
       "      <td>1.202328e+06</td>\n",
       "    </tr>\n",
       "    <tr>\n",
       "      <th>mean</th>\n",
       "      <td>4.479205e+00</td>\n",
       "      <td>8.244256e-02</td>\n",
       "      <td>3.866867e+00</td>\n",
       "    </tr>\n",
       "    <tr>\n",
       "      <th>std</th>\n",
       "      <td>7.072767e+00</td>\n",
       "      <td>4.094498e-01</td>\n",
       "      <td>5.824677e+00</td>\n",
       "    </tr>\n",
       "    <tr>\n",
       "      <th>min</th>\n",
       "      <td>0.000000e+00</td>\n",
       "      <td>0.000000e+00</td>\n",
       "      <td>-1.000000e+00</td>\n",
       "    </tr>\n",
       "    <tr>\n",
       "      <th>25%</th>\n",
       "      <td>1.000000e+00</td>\n",
       "      <td>0.000000e+00</td>\n",
       "      <td>1.000000e+00</td>\n",
       "    </tr>\n",
       "    <tr>\n",
       "      <th>50%</th>\n",
       "      <td>2.000000e+00</td>\n",
       "      <td>0.000000e+00</td>\n",
       "      <td>2.000000e+00</td>\n",
       "    </tr>\n",
       "    <tr>\n",
       "      <th>75%</th>\n",
       "      <td>5.000000e+00</td>\n",
       "      <td>0.000000e+00</td>\n",
       "      <td>4.000000e+00</td>\n",
       "    </tr>\n",
       "    <tr>\n",
       "      <th>max</th>\n",
       "      <td>6.160000e+02</td>\n",
       "      <td>2.100000e+01</td>\n",
       "      <td>1.680000e+02</td>\n",
       "    </tr>\n",
       "  </tbody>\n",
       "</table>\n",
       "</div>"
      ],
      "text/plain": [
       "              cases        deaths     recovered\n",
       "count  1.202328e+06  1.202328e+06  1.202328e+06\n",
       "mean   4.479205e+00  8.244256e-02  3.866867e+00\n",
       "std    7.072767e+00  4.094498e-01  5.824677e+00\n",
       "min    0.000000e+00  0.000000e+00 -1.000000e+00\n",
       "25%    1.000000e+00  0.000000e+00  1.000000e+00\n",
       "50%    2.000000e+00  0.000000e+00  2.000000e+00\n",
       "75%    5.000000e+00  0.000000e+00  4.000000e+00\n",
       "max    6.160000e+02  2.100000e+01  1.680000e+02"
      ]
     },
     "execution_count": 25,
     "metadata": {},
     "output_type": "execute_result"
    }
   ],
   "source": [
    "de.describe()"
   ]
  },
  {
   "cell_type": "code",
   "execution_count": 27,
   "id": "37e01287",
   "metadata": {},
   "outputs": [
    {
     "data": {
      "text/plain": [
       "array([  1,   3,   2,   5,   4,   7,   8,   6,   9,  10,  17,  12,  13,\n",
       "        18,  15,  27,  11,  16,  24,  22,  23,  20,  21,  36,  32,  14,\n",
       "        19,  42,  28,  26,  29,  34,  45,  30,  39,  33,  61,  31,  38,\n",
       "        25,  35,  43,  50,  51,  44,  60,  53,  46,  74,  37,  59,  69,\n",
       "        40,  49,  41,  58,  54,  71,  47,  62,  72,  67,  48,  56,  52,\n",
       "        78,  79,  55,  64,  85,  75,  65,  66, 102, 104,  81,  57,  70,\n",
       "        86,  63,  68,  80,  73,  88,  76,  92,  87,  91, 100,  94, 151,\n",
       "       162,  84,  90, 107,  83,  77,  99,  89,  82,   0, 127, 116, 114,\n",
       "       124, 119, 106, 111,  97, 115, 121, 238, 122, 110, 169, 247,  93,\n",
       "       125, 129, 142,  96, 132, 202, 228, 190, 214, 196, 384, 547, 273,\n",
       "       182, 112,  98, 139, 131, 165, 143, 178, 233, 177, 219, 217, 534,\n",
       "       255, 108, 117, 109,  95, 103, 101, 105, 155, 126, 128, 136, 137,\n",
       "       150, 193, 212, 218, 223, 236, 424, 607, 245, 220, 123, 120, 118,\n",
       "       171, 149, 144, 215, 221, 226, 396, 616, 261, 205, 153, 113, 140,\n",
       "       130, 135, 184, 164, 250, 197, 163, 239, 158, 208, 148, 138, 152,\n",
       "       191, 167, 146, 145, 189, 188, 170, 180, 147, 154, 166, 134, 159,\n",
       "       168, 211, 222, 172, 160, 133, 157])"
      ]
     },
     "execution_count": 27,
     "metadata": {},
     "output_type": "execute_result"
    }
   ],
   "source": [
    "de.cases.unique()"
   ]
  },
  {
   "cell_type": "code",
   "execution_count": 28,
   "id": "1a394437",
   "metadata": {},
   "outputs": [
    {
     "data": {
      "text/plain": [
       "array([ 0,  1,  5,  2,  4,  3,  7,  6,  8, 10, 11,  9, 12, 13, 17, 21, 16,\n",
       "       14, 15, 20, 18])"
      ]
     },
     "execution_count": 28,
     "metadata": {},
     "output_type": "execute_result"
    }
   ],
   "source": [
    "de.deaths.unique()"
   ]
  },
  {
   "cell_type": "code",
   "execution_count": 29,
   "id": "337237b4",
   "metadata": {},
   "outputs": [
    {
     "data": {
      "text/plain": [
       "array(['2020-03-27', '2020-03-28', '2020-04-03', '2020-10-18',\n",
       "       '2020-10-22', '2020-10-27', '2020-10-30', '2020-11-03',\n",
       "       '2020-11-07', '2020-11-10', '2020-11-15', '2020-11-17',\n",
       "       '2020-11-18', '2020-11-19', '2020-11-25', '2020-12-05',\n",
       "       '2020-12-13', '2020-12-14', '2020-12-15', '2020-12-19',\n",
       "       '2020-12-21', '2020-12-29', '2020-12-30', '2021-01-24',\n",
       "       '2021-01-30', '2021-02-06', '2021-02-12', '2021-02-18',\n",
       "       '2021-02-26', '2021-03-04', '2021-03-07', '2021-03-09',\n",
       "       '2021-03-10', '2021-03-11', '2021-03-12', '2021-03-14',\n",
       "       '2021-03-18', '2021-03-26', '2021-03-30', '2021-04-07',\n",
       "       '2021-04-08', '2021-04-09', '2021-04-10', '2021-04-12',\n",
       "       '2021-04-15', '2021-04-16', '2021-04-20', '2021-04-24',\n",
       "       '2021-04-25', '2021-04-27', '2021-04-28', '2021-04-29',\n",
       "       '2021-05-01', '2021-05-02', '2021-05-04', '2021-05-11',\n",
       "       '2021-05-13', '2021-05-18', '2021-05-28', '2021-05-31',\n",
       "       '2021-06-01', '2021-06-06', '2021-06-13', '2021-07-13',\n",
       "       '2021-07-23', '2021-08-04', '2021-08-05', '2021-08-14',\n",
       "       '2021-08-24', '2021-08-26', '2021-08-28', '2021-08-29',\n",
       "       '2021-08-31', '2021-09-01', '2021-09-02', '2021-09-05',\n",
       "       '2021-09-08', '2021-09-09', '2021-09-12', '2021-09-16',\n",
       "       '2021-09-17', '2021-09-20', '2021-09-21', '2021-09-29',\n",
       "       '2021-09-30', '2021-10-05', '2021-10-07', '2021-10-09',\n",
       "       '2021-10-11', '2021-10-13', '2021-10-14', '2021-10-15',\n",
       "       '2021-10-19', '2021-10-20', '2021-10-25', '2021-10-27',\n",
       "       '2021-11-01', '2021-11-03', '2021-11-04', '2021-11-05',\n",
       "       '2021-11-08', '2021-11-09', '2021-11-10', '2021-11-11',\n",
       "       '2021-11-12', '2021-11-13', '2021-11-15', '2021-11-16',\n",
       "       '2021-11-17', '2021-11-18', '2021-11-19', '2021-11-20',\n",
       "       '2021-11-21', '2020-04-05', '2020-05-18', '2020-07-27',\n",
       "       '2020-08-12', '2020-08-23', '2020-09-20', '2020-10-19',\n",
       "       '2020-10-26', '2020-10-28', '2020-11-11', '2020-11-20',\n",
       "       '2020-11-24', '2020-12-03', '2020-12-10', '2020-12-11',\n",
       "       '2020-12-16', '2020-12-18', '2020-12-23', '2020-12-25',\n",
       "       '2021-01-16', '2021-01-21', '2021-01-28', '2021-02-04',\n",
       "       '2021-02-14', '2021-03-06', '2021-03-16', '2021-03-20',\n",
       "       '2021-04-05', '2021-04-14', '2021-04-17', '2021-04-21',\n",
       "       '2021-04-22', '2021-04-23', '2021-04-26', '2021-04-30',\n",
       "       '2021-05-05', '2021-05-07', '2021-05-09', '2021-05-10',\n",
       "       '2021-05-14', '2021-05-15', '2021-05-19', '2021-05-20',\n",
       "       '2021-05-25', '2021-05-27', '2021-06-05', '2021-06-08',\n",
       "       '2021-06-09', '2021-06-26', '2021-07-10', '2021-08-06',\n",
       "       '2021-08-12', '2021-09-03', '2021-09-07', '2021-09-10',\n",
       "       '2021-09-14', '2021-09-15', '2021-09-18', '2021-09-24',\n",
       "       '2021-09-25', '2021-10-06', '2021-10-12', '2021-10-17',\n",
       "       '2021-10-26', '2021-10-30', '2021-11-06', '2021-11-07',\n",
       "       '2021-11-14', '2020-03-17', '2020-03-25', '2020-03-26',\n",
       "       '2020-03-29', '2020-03-31', '2020-04-01', '2020-04-09',\n",
       "       '2020-04-17', '2020-04-27', '2020-05-11', '2020-05-23',\n",
       "       '2020-08-17', '2020-08-26', '2020-08-29', '2020-09-05',\n",
       "       '2020-09-07', '2020-09-17', '2020-09-21', '2020-09-23',\n",
       "       '2020-09-24', '2020-09-25', '2020-09-27', '2020-10-01',\n",
       "       '2020-10-08', '2020-10-09', '2020-10-10', '2020-10-14',\n",
       "       '2020-10-15', '2020-10-16', '2020-10-21', '2020-10-24',\n",
       "       '2020-10-29', '2020-10-31', '2020-11-02', '2020-11-04',\n",
       "       '2020-11-05', '2020-11-09', '2020-11-12', '2020-11-13',\n",
       "       '2020-11-22', '2020-11-23', '2020-11-26', '2020-11-27',\n",
       "       '2020-11-28', '2020-11-30', '2020-12-02', '2020-12-04',\n",
       "       '2020-12-08', '2020-12-09', '2020-12-12', '2020-12-17',\n",
       "       '2020-12-20', '2020-12-24', '2021-01-08', '2021-01-09',\n",
       "       '2021-01-13', '2021-01-14', '2021-01-20', '2021-01-23',\n",
       "       '2021-01-26', '2021-01-27', '2021-01-29', '2021-02-02',\n",
       "       '2021-02-16', '2021-02-19', '2021-02-20', '2021-02-23',\n",
       "       '2021-03-02', '2021-03-03', '2021-03-05', '2021-03-13',\n",
       "       '2021-03-15', '2021-03-19', '2021-03-24', '2021-03-27',\n",
       "       '2021-03-28', '2021-03-31', '2021-04-02', '2021-04-04',\n",
       "       '2021-04-13', '2021-04-19', '2021-05-03', '2021-05-06',\n",
       "       '2021-05-12', '2021-05-21', '2021-05-22', '2021-05-26',\n",
       "       '2021-05-29', '2021-06-02', '2021-06-03', '2021-06-10',\n",
       "       '2021-06-12', '2021-06-16', '2021-06-30', '2021-07-07',\n",
       "       '2021-07-27', '2021-08-03', '2021-08-07', '2021-08-11',\n",
       "       '2021-08-17', '2021-08-22', '2021-08-27', '2021-08-30',\n",
       "       '2021-09-23', '2021-09-28', '2021-10-01', '2021-10-04',\n",
       "       '2021-10-08', '2021-10-21', '2021-10-22', '2021-10-23',\n",
       "       '2021-10-24', '2021-10-28', '2021-10-29', '2021-10-31',\n",
       "       '2021-11-02', '2020-03-30', '2020-07-22', '2020-08-18',\n",
       "       '2020-08-27', '2020-09-10', '2020-09-18', '2020-10-02',\n",
       "       '2020-10-13', '2020-10-17', '2020-10-20', '2020-10-23',\n",
       "       '2020-11-01', '2020-11-06', '2020-11-08', '2020-11-14',\n",
       "       '2020-11-16', '2020-11-21', '2020-11-29', '2020-12-07',\n",
       "       '2020-12-31', '2021-01-06', '2021-01-12', '2021-01-22',\n",
       "       '2021-02-05', '2021-02-10', '2021-02-27', '2021-03-22',\n",
       "       '2021-03-23', '2021-03-25', '2021-04-01', '2021-04-18',\n",
       "       '2021-05-08', '2021-05-30', '2021-06-14', '2021-06-23',\n",
       "       '2021-07-01', '2021-07-14', '2021-07-21', '2021-08-18',\n",
       "       '2021-08-21', '2021-08-23', '2021-08-25', '2021-09-11',\n",
       "       '2021-09-13', '2021-09-19', '2021-09-22', '2021-09-27',\n",
       "       '2021-10-03', '2021-10-16', '2021-10-18', '2020-03-14',\n",
       "       '2020-03-15', '2020-03-16', '2020-03-18', '2020-03-19',\n",
       "       '2020-03-20', '2020-03-21', '2020-03-23', '2020-03-24',\n",
       "       '2020-04-02', '2020-04-04', '2020-04-07', '2020-04-08',\n",
       "       '2020-04-10', '2020-04-12', '2020-04-14', '2020-04-15',\n",
       "       '2020-04-16', '2020-04-18', '2020-04-22', '2020-04-24',\n",
       "       '2020-04-25', '2020-04-29', '2020-05-07', '2020-05-08',\n",
       "       '2020-05-12', '2020-05-19', '2020-06-26', '2020-06-28',\n",
       "       '2020-07-07', '2020-07-14', '2020-07-20', '2020-07-26',\n",
       "       '2020-07-28', '2020-08-08', '2020-08-11', '2020-08-19',\n",
       "       '2020-08-20', '2020-08-21', '2020-08-22', '2020-08-25',\n",
       "       '2020-08-30', '2020-09-01', '2020-09-02', '2020-09-04',\n",
       "       '2020-09-08', '2020-09-09', '2020-09-12', '2020-09-15',\n",
       "       '2020-09-26', '2020-09-28', '2020-09-29', '2020-09-30',\n",
       "       '2020-10-07', '2020-10-11', '2020-10-25', '2020-12-01',\n",
       "       '2020-12-06', '2020-12-22', '2020-12-26', '2020-12-27',\n",
       "       '2020-12-28', '2021-01-01', '2021-01-03', '2021-01-04',\n",
       "       '2021-01-05', '2021-01-07', '2021-01-10', '2021-01-11',\n",
       "       '2021-01-15', '2021-01-17', '2021-01-18', '2021-01-19',\n",
       "       '2021-01-31', '2021-02-01', '2021-02-03', '2021-02-08',\n",
       "       '2021-02-09', '2021-02-11', '2021-02-13', '2021-02-15',\n",
       "       '2021-02-17', '2021-02-21', '2021-02-24', '2021-02-25',\n",
       "       '2021-03-17', '2021-03-21', '2021-03-29', '2021-04-03',\n",
       "       '2021-04-06', '2021-04-11', '2021-05-16', '2021-05-23',\n",
       "       '2021-06-07', '2021-06-18', '2021-07-06', '2021-07-11',\n",
       "       '2021-07-17', '2021-07-20', '2021-07-29', '2021-07-30',\n",
       "       '2021-07-31', '2021-08-02', '2021-08-09', '2021-08-10',\n",
       "       '2021-08-13', '2021-08-16', '2021-08-19', '2021-09-04',\n",
       "       '2021-09-06', '2021-10-02', '2020-03-04', '2020-04-11',\n",
       "       '2020-04-13', '2020-04-23', '2020-05-16', '2020-06-05',\n",
       "       '2020-06-16', '2020-06-29', '2020-07-02', '2020-07-04',\n",
       "       '2020-07-08', '2020-07-10', '2020-07-16', '2020-07-19',\n",
       "       '2020-07-24', '2020-08-05', '2020-08-06', '2020-08-13',\n",
       "       '2020-08-14', '2020-08-16', '2020-08-24', '2020-09-19',\n",
       "       '2020-09-22', '2020-10-03', '2020-10-06', '2020-10-12',\n",
       "       '2021-01-02', '2021-01-25', '2021-02-28', '2021-03-08',\n",
       "       '2021-05-17', '2021-05-24', '2021-06-11', '2021-06-15',\n",
       "       '2021-06-17', '2021-06-25', '2021-07-02', '2021-07-05',\n",
       "       '2021-07-08', '2021-07-12', '2021-07-19', '2021-07-22',\n",
       "       '2021-07-24', '2021-08-15', '2021-08-20', '2021-09-26',\n",
       "       '2020-03-11', '2020-03-13', '2020-03-22', '2020-04-19',\n",
       "       '2020-04-21', '2020-05-01', '2020-05-15', '2020-05-22',\n",
       "       '2020-05-25', '2020-05-26', '2020-05-27', '2020-06-04',\n",
       "       '2020-06-12', '2020-06-24', '2020-06-30', '2020-07-03',\n",
       "       '2020-07-09', '2020-07-17', '2020-07-31', '2020-08-03',\n",
       "       '2020-08-15', '2020-08-31', '2020-09-03', '2020-09-11',\n",
       "       '2020-09-14', '2020-10-05', '2021-02-07', '2021-03-01',\n",
       "       '2021-07-03', '2021-07-09', '2021-10-10', '2020-02-28',\n",
       "       '2020-03-07', '2020-03-10', '2020-04-06', '2020-04-28',\n",
       "       '2020-05-05', '2020-05-06', '2020-05-09', '2020-05-10',\n",
       "       '2020-05-13', '2020-05-14', '2020-05-31', '2020-06-02',\n",
       "       '2020-06-10', '2020-07-18', '2020-08-28', '2020-09-13',\n",
       "       '2020-05-02', '2020-10-04', '2021-06-04', '2020-05-17',\n",
       "       '2020-05-28', '2020-09-16', '2021-06-22', '2021-07-26',\n",
       "       '2020-04-20', '2020-05-03', '2021-06-21', '2020-08-07',\n",
       "       '2020-09-06', '2021-08-08', '2020-08-10', '2020-04-30',\n",
       "       '2020-05-20', '2020-05-29', '2020-06-25', '2021-06-19',\n",
       "       '2021-08-01', '2020-06-27', '2020-07-01', '2021-02-22',\n",
       "       '2021-06-24', '2021-07-15', '2021-07-28', '2020-06-15',\n",
       "       '2020-07-23', '2020-03-06', '2020-03-12', '2020-05-21',\n",
       "       '2020-06-19', '2020-07-29', '2021-06-29', '2020-07-15',\n",
       "       '2020-04-26', '2020-06-06', '2020-07-06', '2021-07-25',\n",
       "       '2020-07-21', '2020-08-04', '2021-07-16', '2021-06-28',\n",
       "       '2020-06-22', '2020-06-23', '2020-07-12', '2020-08-01',\n",
       "       '2020-02-27', '2020-03-05', '2020-05-04', '2020-05-30',\n",
       "       '2020-06-17', '2020-07-11', '2020-07-30', '2020-03-09',\n",
       "       '2020-06-11', '2020-06-18', '2020-07-13', '2021-07-18',\n",
       "       '2021-07-04', '2021-06-20', '2020-06-07', '2020-03-03',\n",
       "       '2020-06-08', '2020-06-14', '2020-08-09', '2020-02-26',\n",
       "       '2020-07-25', '2020-06-20', '2021-06-27', '2020-03-08',\n",
       "       '2020-06-13', '2020-06-01', '2020-06-03', '2020-08-02',\n",
       "       '2020-06-09', '2020-05-24', '2020-02-25', '2020-03-02',\n",
       "       '2020-07-05', '2020-06-21', '2020-02-24', '2020-02-29',\n",
       "       '2020-03-01', '2020-02-01', '2020-02-05', '2020-01-29',\n",
       "       '2020-02-07', '2020-01-31', '2020-01-28', '2020-02-04',\n",
       "       '2020-02-20', '2020-02-11', '2020-02-06', '2020-02-03',\n",
       "       '2020-02-18', '2020-02-17', '2020-01-02', '2020-01-23'],\n",
       "      dtype=object)"
      ]
     },
     "execution_count": 29,
     "metadata": {},
     "output_type": "execute_result"
    }
   ],
   "source": [
    "de.date.unique()"
   ]
  },
  {
   "cell_type": "code",
   "execution_count": 30,
   "id": "a6455eac",
   "metadata": {},
   "outputs": [
    {
     "data": {
      "text/plain": [
       "5385473"
      ]
     },
     "execution_count": 30,
     "metadata": {},
     "output_type": "execute_result"
    }
   ],
   "source": [
    "de.cases.sum()"
   ]
  },
  {
   "cell_type": "code",
   "execution_count": 31,
   "id": "6b35ff17",
   "metadata": {},
   "outputs": [
    {
     "data": {
      "text/plain": [
       "99123"
      ]
     },
     "execution_count": 31,
     "metadata": {},
     "output_type": "execute_result"
    }
   ],
   "source": [
    "de.deaths.sum()"
   ]
  },
  {
   "cell_type": "code",
   "execution_count": 32,
   "id": "00acf84c",
   "metadata": {},
   "outputs": [
    {
     "data": {
      "text/plain": [
       "4649242"
      ]
     },
     "execution_count": 32,
     "metadata": {},
     "output_type": "execute_result"
    }
   ],
   "source": [
    "de.recovered.sum()"
   ]
  },
  {
   "cell_type": "code",
   "execution_count": 33,
   "id": "0d144a5f",
   "metadata": {},
   "outputs": [
    {
     "data": {
      "text/html": [
       "<div>\n",
       "<style scoped>\n",
       "    .dataframe tbody tr th:only-of-type {\n",
       "        vertical-align: middle;\n",
       "    }\n",
       "\n",
       "    .dataframe tbody tr th {\n",
       "        vertical-align: top;\n",
       "    }\n",
       "\n",
       "    .dataframe thead th {\n",
       "        text-align: right;\n",
       "    }\n",
       "</style>\n",
       "<table border=\"1\" class=\"dataframe\">\n",
       "  <thead>\n",
       "    <tr style=\"text-align: right;\">\n",
       "      <th></th>\n",
       "      <th>state</th>\n",
       "      <th>county</th>\n",
       "      <th>age_group</th>\n",
       "      <th>gender</th>\n",
       "      <th>date</th>\n",
       "      <th>cases</th>\n",
       "      <th>deaths</th>\n",
       "      <th>recovered</th>\n",
       "    </tr>\n",
       "  </thead>\n",
       "  <tbody>\n",
       "    <tr>\n",
       "      <th>0</th>\n",
       "      <td>Baden-Wuerttemberg</td>\n",
       "      <td>LK Alb-Donau-Kreis</td>\n",
       "      <td>00-04</td>\n",
       "      <td>F</td>\n",
       "      <td>2020-03-27</td>\n",
       "      <td>1</td>\n",
       "      <td>0</td>\n",
       "      <td>1</td>\n",
       "    </tr>\n",
       "    <tr>\n",
       "      <th>1</th>\n",
       "      <td>Baden-Wuerttemberg</td>\n",
       "      <td>LK Alb-Donau-Kreis</td>\n",
       "      <td>00-04</td>\n",
       "      <td>F</td>\n",
       "      <td>2020-03-28</td>\n",
       "      <td>1</td>\n",
       "      <td>0</td>\n",
       "      <td>1</td>\n",
       "    </tr>\n",
       "    <tr>\n",
       "      <th>2</th>\n",
       "      <td>Baden-Wuerttemberg</td>\n",
       "      <td>LK Alb-Donau-Kreis</td>\n",
       "      <td>00-04</td>\n",
       "      <td>F</td>\n",
       "      <td>2020-04-03</td>\n",
       "      <td>1</td>\n",
       "      <td>0</td>\n",
       "      <td>1</td>\n",
       "    </tr>\n",
       "    <tr>\n",
       "      <th>3</th>\n",
       "      <td>Baden-Wuerttemberg</td>\n",
       "      <td>LK Alb-Donau-Kreis</td>\n",
       "      <td>00-04</td>\n",
       "      <td>F</td>\n",
       "      <td>2020-10-18</td>\n",
       "      <td>1</td>\n",
       "      <td>0</td>\n",
       "      <td>1</td>\n",
       "    </tr>\n",
       "    <tr>\n",
       "      <th>4</th>\n",
       "      <td>Baden-Wuerttemberg</td>\n",
       "      <td>LK Alb-Donau-Kreis</td>\n",
       "      <td>00-04</td>\n",
       "      <td>F</td>\n",
       "      <td>2020-10-22</td>\n",
       "      <td>1</td>\n",
       "      <td>0</td>\n",
       "      <td>1</td>\n",
       "    </tr>\n",
       "  </tbody>\n",
       "</table>\n",
       "</div>"
      ],
      "text/plain": [
       "                state              county age_group gender        date  cases  \\\n",
       "0  Baden-Wuerttemberg  LK Alb-Donau-Kreis     00-04      F  2020-03-27      1   \n",
       "1  Baden-Wuerttemberg  LK Alb-Donau-Kreis     00-04      F  2020-03-28      1   \n",
       "2  Baden-Wuerttemberg  LK Alb-Donau-Kreis     00-04      F  2020-04-03      1   \n",
       "3  Baden-Wuerttemberg  LK Alb-Donau-Kreis     00-04      F  2020-10-18      1   \n",
       "4  Baden-Wuerttemberg  LK Alb-Donau-Kreis     00-04      F  2020-10-22      1   \n",
       "\n",
       "   deaths  recovered  \n",
       "0       0          1  \n",
       "1       0          1  \n",
       "2       0          1  \n",
       "3       0          1  \n",
       "4       0          1  "
      ]
     },
     "execution_count": 33,
     "metadata": {},
     "output_type": "execute_result"
    }
   ],
   "source": [
    "de.head()"
   ]
  },
  {
   "cell_type": "code",
   "execution_count": 34,
   "id": "4fc1f95f",
   "metadata": {},
   "outputs": [
    {
     "data": {
      "text/plain": [
       "Index(['state', 'county', 'age_group', 'gender', 'date', 'cases', 'deaths',\n",
       "       'recovered'],\n",
       "      dtype='object')"
      ]
     },
     "execution_count": 34,
     "metadata": {},
     "output_type": "execute_result"
    }
   ],
   "source": [
    "de.columns\n"
   ]
  },
  {
   "cell_type": "code",
   "execution_count": 46,
   "id": "c24b9220",
   "metadata": {},
   "outputs": [
    {
     "data": {
      "text/plain": [
       "array(['2020-03-27', '2020-03-28', '2020-04-03', '2020-10-18',\n",
       "       '2020-10-22', '2020-10-27', '2020-10-30', '2020-11-03',\n",
       "       '2020-11-07', '2020-11-10', '2020-11-15', '2020-11-17',\n",
       "       '2020-11-18', '2020-11-19', '2020-11-25', '2020-12-05',\n",
       "       '2020-12-13', '2020-12-14', '2020-12-15', '2020-12-19',\n",
       "       '2020-12-21', '2020-12-29', '2020-12-30', '2021-01-24',\n",
       "       '2021-01-30', '2021-02-06', '2021-02-12', '2021-02-18',\n",
       "       '2021-02-26', '2021-03-04', '2021-03-07', '2021-03-09',\n",
       "       '2021-03-10', '2021-03-11', '2021-03-12', '2021-03-14',\n",
       "       '2021-03-18', '2021-03-26', '2021-03-30', '2021-04-07',\n",
       "       '2021-04-08', '2021-04-09', '2021-04-10', '2021-04-12',\n",
       "       '2021-04-15', '2021-04-16', '2021-04-20', '2021-04-24',\n",
       "       '2021-04-25', '2021-04-27', '2021-04-28', '2021-04-29',\n",
       "       '2021-05-01', '2021-05-02', '2021-05-04', '2021-05-11',\n",
       "       '2021-05-13', '2021-05-18', '2021-05-28', '2021-05-31',\n",
       "       '2021-06-01', '2021-06-06', '2021-06-13', '2021-07-13',\n",
       "       '2021-07-23', '2021-08-04', '2021-08-05', '2021-08-14',\n",
       "       '2021-08-24', '2021-08-26', '2021-08-28', '2021-08-29',\n",
       "       '2021-08-31', '2021-09-01', '2021-09-02', '2021-09-05',\n",
       "       '2021-09-08', '2021-09-09', '2021-09-12', '2021-09-16',\n",
       "       '2021-09-17', '2021-09-20', '2021-09-21', '2021-09-29',\n",
       "       '2021-09-30', '2021-10-05', '2021-10-07', '2021-10-09',\n",
       "       '2021-10-11', '2021-10-13', '2021-10-14', '2021-10-15',\n",
       "       '2021-10-19', '2021-10-20', '2021-10-25', '2021-10-27',\n",
       "       '2021-11-01', '2021-11-03', '2021-11-04', '2021-11-05',\n",
       "       '2021-11-08', '2021-11-09', '2021-11-10', '2021-11-11',\n",
       "       '2021-11-12', '2021-11-13', '2021-11-15', '2021-11-16',\n",
       "       '2021-11-17', '2021-11-18', '2021-11-19', '2021-11-20',\n",
       "       '2021-11-21', '2020-04-05', '2020-05-18', '2020-07-27',\n",
       "       '2020-08-12', '2020-08-23', '2020-09-20', '2020-10-19',\n",
       "       '2020-10-26', '2020-10-28', '2020-11-11', '2020-11-20',\n",
       "       '2020-11-24', '2020-12-03', '2020-12-10', '2020-12-11',\n",
       "       '2020-12-16', '2020-12-18', '2020-12-23', '2020-12-25',\n",
       "       '2021-01-16', '2021-01-21', '2021-01-28', '2021-02-04',\n",
       "       '2021-02-14', '2021-03-06', '2021-03-16', '2021-03-20',\n",
       "       '2021-04-05', '2021-04-14', '2021-04-17', '2021-04-21',\n",
       "       '2021-04-22', '2021-04-23', '2021-04-26', '2021-04-30',\n",
       "       '2021-05-05', '2021-05-07', '2021-05-09', '2021-05-10',\n",
       "       '2021-05-14', '2021-05-15', '2021-05-19', '2021-05-20',\n",
       "       '2021-05-25', '2021-05-27', '2021-06-05', '2021-06-08',\n",
       "       '2021-06-09', '2021-06-26', '2021-07-10', '2021-08-06',\n",
       "       '2021-08-12', '2021-09-03', '2021-09-07', '2021-09-10',\n",
       "       '2021-09-14', '2021-09-15', '2021-09-18', '2021-09-24',\n",
       "       '2021-09-25', '2021-10-06', '2021-10-12', '2021-10-17',\n",
       "       '2021-10-26', '2021-10-30', '2021-11-06', '2021-11-07',\n",
       "       '2021-11-14', '2020-03-17', '2020-03-25', '2020-03-26',\n",
       "       '2020-03-29', '2020-03-31', '2020-04-01', '2020-04-09',\n",
       "       '2020-04-17', '2020-04-27', '2020-05-11', '2020-05-23',\n",
       "       '2020-08-17', '2020-08-26', '2020-08-29', '2020-09-05',\n",
       "       '2020-09-07', '2020-09-17', '2020-09-21', '2020-09-23',\n",
       "       '2020-09-24', '2020-09-25', '2020-09-27', '2020-10-01',\n",
       "       '2020-10-08', '2020-10-09', '2020-10-10', '2020-10-14',\n",
       "       '2020-10-15', '2020-10-16', '2020-10-21', '2020-10-24',\n",
       "       '2020-10-29', '2020-10-31', '2020-11-02', '2020-11-04',\n",
       "       '2020-11-05', '2020-11-09', '2020-11-12', '2020-11-13',\n",
       "       '2020-11-22', '2020-11-23', '2020-11-26', '2020-11-27',\n",
       "       '2020-11-28', '2020-11-30', '2020-12-02', '2020-12-04',\n",
       "       '2020-12-08', '2020-12-09', '2020-12-12', '2020-12-17',\n",
       "       '2020-12-20', '2020-12-24', '2021-01-08', '2021-01-09',\n",
       "       '2021-01-13', '2021-01-14', '2021-01-20', '2021-01-23',\n",
       "       '2021-01-26', '2021-01-27', '2021-01-29', '2021-02-02',\n",
       "       '2021-02-16', '2021-02-19', '2021-02-20', '2021-02-23',\n",
       "       '2021-03-02', '2021-03-03', '2021-03-05', '2021-03-13',\n",
       "       '2021-03-15', '2021-03-19', '2021-03-24', '2021-03-27',\n",
       "       '2021-03-28', '2021-03-31', '2021-04-02', '2021-04-04',\n",
       "       '2021-04-13', '2021-04-19', '2021-05-03', '2021-05-06',\n",
       "       '2021-05-12', '2021-05-21', '2021-05-22', '2021-05-26',\n",
       "       '2021-05-29', '2021-06-02', '2021-06-03', '2021-06-10',\n",
       "       '2021-06-12', '2021-06-16', '2021-06-30', '2021-07-07',\n",
       "       '2021-07-27', '2021-08-03', '2021-08-07', '2021-08-11',\n",
       "       '2021-08-17', '2021-08-22', '2021-08-27', '2021-08-30',\n",
       "       '2021-09-23', '2021-09-28', '2021-10-01', '2021-10-04',\n",
       "       '2021-10-08', '2021-10-21', '2021-10-22', '2021-10-23',\n",
       "       '2021-10-24', '2021-10-28', '2021-10-29', '2021-10-31',\n",
       "       '2021-11-02', '2020-03-30', '2020-07-22', '2020-08-18',\n",
       "       '2020-08-27', '2020-09-10', '2020-09-18', '2020-10-02',\n",
       "       '2020-10-13', '2020-10-17', '2020-10-20', '2020-10-23',\n",
       "       '2020-11-01', '2020-11-06', '2020-11-08', '2020-11-14',\n",
       "       '2020-11-16', '2020-11-21', '2020-11-29', '2020-12-07',\n",
       "       '2020-12-31', '2021-01-06', '2021-01-12', '2021-01-22',\n",
       "       '2021-02-05', '2021-02-10', '2021-02-27', '2021-03-22',\n",
       "       '2021-03-23', '2021-03-25', '2021-04-01', '2021-04-18',\n",
       "       '2021-05-08', '2021-05-30', '2021-06-14', '2021-06-23',\n",
       "       '2021-07-01', '2021-07-14', '2021-07-21', '2021-08-18',\n",
       "       '2021-08-21', '2021-08-23', '2021-08-25', '2021-09-11',\n",
       "       '2021-09-13', '2021-09-19', '2021-09-22', '2021-09-27',\n",
       "       '2021-10-03', '2021-10-16', '2021-10-18', '2020-03-14',\n",
       "       '2020-03-15', '2020-03-16', '2020-03-18', '2020-03-19',\n",
       "       '2020-03-20', '2020-03-21', '2020-03-23', '2020-03-24',\n",
       "       '2020-04-02', '2020-04-04', '2020-04-07', '2020-04-08',\n",
       "       '2020-04-10', '2020-04-12', '2020-04-14', '2020-04-15',\n",
       "       '2020-04-16', '2020-04-18', '2020-04-22', '2020-04-24',\n",
       "       '2020-04-25', '2020-04-29', '2020-05-07', '2020-05-08',\n",
       "       '2020-05-12', '2020-05-19', '2020-06-26', '2020-06-28',\n",
       "       '2020-07-07', '2020-07-14', '2020-07-20', '2020-07-26',\n",
       "       '2020-07-28', '2020-08-08', '2020-08-11', '2020-08-19',\n",
       "       '2020-08-20', '2020-08-21', '2020-08-22', '2020-08-25',\n",
       "       '2020-08-30', '2020-09-01', '2020-09-02', '2020-09-04',\n",
       "       '2020-09-08', '2020-09-09', '2020-09-12', '2020-09-15',\n",
       "       '2020-09-26', '2020-09-28', '2020-09-29', '2020-09-30',\n",
       "       '2020-10-07', '2020-10-11', '2020-10-25', '2020-12-01',\n",
       "       '2020-12-06', '2020-12-22', '2020-12-26', '2020-12-27',\n",
       "       '2020-12-28', '2021-01-01', '2021-01-03', '2021-01-04',\n",
       "       '2021-01-05', '2021-01-07', '2021-01-10', '2021-01-11',\n",
       "       '2021-01-15', '2021-01-17', '2021-01-18', '2021-01-19',\n",
       "       '2021-01-31', '2021-02-01', '2021-02-03', '2021-02-08',\n",
       "       '2021-02-09', '2021-02-11', '2021-02-13', '2021-02-15',\n",
       "       '2021-02-17', '2021-02-21', '2021-02-24', '2021-02-25',\n",
       "       '2021-03-17', '2021-03-21', '2021-03-29', '2021-04-03',\n",
       "       '2021-04-06', '2021-04-11', '2021-05-16', '2021-05-23',\n",
       "       '2021-06-07', '2021-06-18', '2021-07-06', '2021-07-11',\n",
       "       '2021-07-17', '2021-07-20', '2021-07-29', '2021-07-30',\n",
       "       '2021-07-31', '2021-08-02', '2021-08-09', '2021-08-10',\n",
       "       '2021-08-13', '2021-08-16', '2021-08-19', '2021-09-04',\n",
       "       '2021-09-06', '2021-10-02', '2020-03-04', '2020-04-11',\n",
       "       '2020-04-13', '2020-04-23', '2020-05-16', '2020-06-05',\n",
       "       '2020-06-16', '2020-06-29', '2020-07-02', '2020-07-04',\n",
       "       '2020-07-08', '2020-07-10', '2020-07-16', '2020-07-19',\n",
       "       '2020-07-24', '2020-08-05', '2020-08-06', '2020-08-13',\n",
       "       '2020-08-14', '2020-08-16', '2020-08-24', '2020-09-19',\n",
       "       '2020-09-22', '2020-10-03', '2020-10-06', '2020-10-12',\n",
       "       '2021-01-02', '2021-01-25', '2021-02-28', '2021-03-08',\n",
       "       '2021-05-17', '2021-05-24', '2021-06-11', '2021-06-15',\n",
       "       '2021-06-17', '2021-06-25', '2021-07-02', '2021-07-05',\n",
       "       '2021-07-08', '2021-07-12', '2021-07-19', '2021-07-22',\n",
       "       '2021-07-24', '2021-08-15', '2021-08-20', '2021-09-26',\n",
       "       '2020-03-11', '2020-03-13', '2020-03-22', '2020-04-19',\n",
       "       '2020-04-21', '2020-05-01', '2020-05-15', '2020-05-22',\n",
       "       '2020-05-25', '2020-05-26', '2020-05-27', '2020-06-04',\n",
       "       '2020-06-12', '2020-06-24', '2020-06-30', '2020-07-03',\n",
       "       '2020-07-09', '2020-07-17', '2020-07-31', '2020-08-03',\n",
       "       '2020-08-15', '2020-08-31', '2020-09-03', '2020-09-11',\n",
       "       '2020-09-14', '2020-10-05', '2021-02-07', '2021-03-01',\n",
       "       '2021-07-03', '2021-07-09', '2021-10-10', '2020-02-28',\n",
       "       '2020-03-07', '2020-03-10', '2020-04-06', '2020-04-28',\n",
       "       '2020-05-05', '2020-05-06', '2020-05-09', '2020-05-10',\n",
       "       '2020-05-13', '2020-05-14', '2020-05-31', '2020-06-02',\n",
       "       '2020-06-10', '2020-07-18', '2020-08-28', '2020-09-13',\n",
       "       '2020-05-02', '2020-10-04', '2021-06-04', '2020-05-17',\n",
       "       '2020-05-28', '2020-09-16', '2021-06-22', '2021-07-26',\n",
       "       '2020-04-20', '2020-05-03', '2021-06-21', '2020-08-07',\n",
       "       '2020-09-06', '2021-08-08', '2020-08-10', '2020-04-30',\n",
       "       '2020-05-20', '2020-05-29', '2020-06-25', '2021-06-19',\n",
       "       '2021-08-01', '2020-06-27', '2020-07-01', '2021-02-22',\n",
       "       '2021-06-24', '2021-07-15', '2021-07-28', '2020-06-15',\n",
       "       '2020-07-23', '2020-03-06', '2020-03-12', '2020-05-21',\n",
       "       '2020-06-19', '2020-07-29', '2021-06-29', '2020-07-15',\n",
       "       '2020-04-26', '2020-06-06', '2020-07-06', '2021-07-25',\n",
       "       '2020-07-21', '2020-08-04', '2021-07-16', '2021-06-28',\n",
       "       '2020-06-22', '2020-06-23', '2020-07-12', '2020-08-01',\n",
       "       '2020-02-27', '2020-03-05', '2020-05-04', '2020-05-30',\n",
       "       '2020-06-17', '2020-07-11', '2020-07-30', '2020-03-09',\n",
       "       '2020-06-11', '2020-06-18', '2020-07-13', '2021-07-18',\n",
       "       '2021-07-04', '2021-06-20', '2020-06-07', '2020-03-03',\n",
       "       '2020-06-08', '2020-06-14', '2020-08-09', '2020-02-26',\n",
       "       '2020-07-25', '2020-06-20', '2021-06-27', '2020-03-08',\n",
       "       '2020-06-13', '2020-06-01', '2020-06-03', '2020-08-02',\n",
       "       '2020-06-09', '2020-05-24', '2020-02-25', '2020-03-02',\n",
       "       '2020-07-05', '2020-06-21', '2020-02-24', '2020-02-29',\n",
       "       '2020-03-01', '2020-02-01', '2020-02-05', '2020-01-29',\n",
       "       '2020-02-07', '2020-01-31', '2020-01-28', '2020-02-04',\n",
       "       '2020-02-20', '2020-02-11', '2020-02-06', '2020-02-03',\n",
       "       '2020-02-18', '2020-02-17', '2020-01-02', '2020-01-23'],\n",
       "      dtype=object)"
      ]
     },
     "execution_count": 46,
     "metadata": {},
     "output_type": "execute_result"
    }
   ],
   "source": [
    "de[\"date\"].unique()"
   ]
  },
  {
   "cell_type": "code",
   "execution_count": 47,
   "id": "462177d9",
   "metadata": {},
   "outputs": [],
   "source": [
    "test = de.copy()"
   ]
  },
  {
   "cell_type": "code",
   "execution_count": 54,
   "id": "c6a42e6c",
   "metadata": {},
   "outputs": [
    {
     "data": {
      "text/plain": [
       "Index(['state', 'county', 'age_group', 'gender', 'date', 'cases', 'deaths',\n",
       "       'recovered'],\n",
       "      dtype='object')"
      ]
     },
     "execution_count": 54,
     "metadata": {},
     "output_type": "execute_result"
    }
   ],
   "source": [
    "test.columns"
   ]
  },
  {
   "cell_type": "markdown",
   "id": "2e5453be",
   "metadata": {},
   "source": [
    "## Grouping the dataset by columns and aggregating the numeric values"
   ]
  },
  {
   "cell_type": "code",
   "execution_count": 101,
   "id": "43a615b4",
   "metadata": {},
   "outputs": [],
   "source": [
    "summary = test.groupby([\"date\",\"state\",\"county\"]).agg({\"cases\":\"sum\",\"deaths\":\"sum\",\"recovered\":\"sum\"}).reset_index()\n",
    "#sum = df.groupby([\"year\", \"month\"]).agg({\"score\": \"sum\", \"num_attempts\": \"sum\"}).reset_index()"
   ]
  },
  {
   "cell_type": "code",
   "execution_count": 105,
   "id": "7fa99488",
   "metadata": {},
   "outputs": [
    {
     "data": {
      "text/plain": [
       "411"
      ]
     },
     "execution_count": 105,
     "metadata": {},
     "output_type": "execute_result"
    }
   ],
   "source": [
    "summary.county.nunique()"
   ]
  },
  {
   "cell_type": "code",
   "execution_count": 108,
   "id": "0170e79d",
   "metadata": {},
   "outputs": [
    {
     "data": {
      "text/plain": [
       "5385473"
      ]
     },
     "execution_count": 108,
     "metadata": {},
     "output_type": "execute_result"
    }
   ],
   "source": [
    "summary.cases.sum()"
   ]
  },
  {
   "cell_type": "code",
   "execution_count": 109,
   "id": "b64f340b",
   "metadata": {},
   "outputs": [
    {
     "data": {
      "text/html": [
       "<div>\n",
       "<style scoped>\n",
       "    .dataframe tbody tr th:only-of-type {\n",
       "        vertical-align: middle;\n",
       "    }\n",
       "\n",
       "    .dataframe tbody tr th {\n",
       "        vertical-align: top;\n",
       "    }\n",
       "\n",
       "    .dataframe thead th {\n",
       "        text-align: right;\n",
       "    }\n",
       "</style>\n",
       "<table border=\"1\" class=\"dataframe\">\n",
       "  <thead>\n",
       "    <tr style=\"text-align: right;\">\n",
       "      <th></th>\n",
       "      <th>date</th>\n",
       "      <th>state</th>\n",
       "      <th>county</th>\n",
       "      <th>cases</th>\n",
       "      <th>deaths</th>\n",
       "      <th>recovered</th>\n",
       "    </tr>\n",
       "  </thead>\n",
       "  <tbody>\n",
       "    <tr>\n",
       "      <th>0</th>\n",
       "      <td>2020-01-02</td>\n",
       "      <td>Nordrhein-Westfalen</td>\n",
       "      <td>LK Maerkischer Kreis</td>\n",
       "      <td>1</td>\n",
       "      <td>0</td>\n",
       "      <td>1</td>\n",
       "    </tr>\n",
       "    <tr>\n",
       "      <th>1</th>\n",
       "      <td>2020-01-23</td>\n",
       "      <td>Saarland</td>\n",
       "      <td>LK Stadtverband Saarbruecken</td>\n",
       "      <td>1</td>\n",
       "      <td>0</td>\n",
       "      <td>1</td>\n",
       "    </tr>\n",
       "    <tr>\n",
       "      <th>2</th>\n",
       "      <td>2020-01-28</td>\n",
       "      <td>Bayern</td>\n",
       "      <td>LK Landsberg a.Lech</td>\n",
       "      <td>1</td>\n",
       "      <td>0</td>\n",
       "      <td>1</td>\n",
       "    </tr>\n",
       "    <tr>\n",
       "      <th>3</th>\n",
       "      <td>2020-01-28</td>\n",
       "      <td>Bayern</td>\n",
       "      <td>LK Starnberg</td>\n",
       "      <td>1</td>\n",
       "      <td>0</td>\n",
       "      <td>1</td>\n",
       "    </tr>\n",
       "    <tr>\n",
       "      <th>4</th>\n",
       "      <td>2020-01-29</td>\n",
       "      <td>Bayern</td>\n",
       "      <td>LK Fuerstenfeldbruck</td>\n",
       "      <td>1</td>\n",
       "      <td>0</td>\n",
       "      <td>1</td>\n",
       "    </tr>\n",
       "    <tr>\n",
       "      <th>...</th>\n",
       "      <td>...</td>\n",
       "      <td>...</td>\n",
       "      <td>...</td>\n",
       "      <td>...</td>\n",
       "      <td>...</td>\n",
       "      <td>...</td>\n",
       "    </tr>\n",
       "    <tr>\n",
       "      <th>199756</th>\n",
       "      <td>2021-11-21</td>\n",
       "      <td>Thueringen</td>\n",
       "      <td>LK Unstrut-Hainich-Kreis</td>\n",
       "      <td>84</td>\n",
       "      <td>0</td>\n",
       "      <td>0</td>\n",
       "    </tr>\n",
       "    <tr>\n",
       "      <th>199757</th>\n",
       "      <td>2021-11-21</td>\n",
       "      <td>Thueringen</td>\n",
       "      <td>LK Wartburgkreis</td>\n",
       "      <td>41</td>\n",
       "      <td>0</td>\n",
       "      <td>0</td>\n",
       "    </tr>\n",
       "    <tr>\n",
       "      <th>199758</th>\n",
       "      <td>2021-11-21</td>\n",
       "      <td>Thueringen</td>\n",
       "      <td>LK Weimarer Land</td>\n",
       "      <td>72</td>\n",
       "      <td>0</td>\n",
       "      <td>0</td>\n",
       "    </tr>\n",
       "    <tr>\n",
       "      <th>199759</th>\n",
       "      <td>2021-11-21</td>\n",
       "      <td>Thueringen</td>\n",
       "      <td>SK Jena</td>\n",
       "      <td>114</td>\n",
       "      <td>0</td>\n",
       "      <td>0</td>\n",
       "    </tr>\n",
       "    <tr>\n",
       "      <th>199760</th>\n",
       "      <td>2021-11-21</td>\n",
       "      <td>Thueringen</td>\n",
       "      <td>SK Suhl</td>\n",
       "      <td>14</td>\n",
       "      <td>0</td>\n",
       "      <td>0</td>\n",
       "    </tr>\n",
       "  </tbody>\n",
       "</table>\n",
       "<p>199761 rows × 6 columns</p>\n",
       "</div>"
      ],
      "text/plain": [
       "              date                state                        county  cases  \\\n",
       "0       2020-01-02  Nordrhein-Westfalen          LK Maerkischer Kreis      1   \n",
       "1       2020-01-23             Saarland  LK Stadtverband Saarbruecken      1   \n",
       "2       2020-01-28               Bayern           LK Landsberg a.Lech      1   \n",
       "3       2020-01-28               Bayern                  LK Starnberg      1   \n",
       "4       2020-01-29               Bayern          LK Fuerstenfeldbruck      1   \n",
       "...            ...                  ...                           ...    ...   \n",
       "199756  2021-11-21           Thueringen      LK Unstrut-Hainich-Kreis     84   \n",
       "199757  2021-11-21           Thueringen              LK Wartburgkreis     41   \n",
       "199758  2021-11-21           Thueringen              LK Weimarer Land     72   \n",
       "199759  2021-11-21           Thueringen                       SK Jena    114   \n",
       "199760  2021-11-21           Thueringen                       SK Suhl     14   \n",
       "\n",
       "        deaths  recovered  \n",
       "0            0          1  \n",
       "1            0          1  \n",
       "2            0          1  \n",
       "3            0          1  \n",
       "4            0          1  \n",
       "...        ...        ...  \n",
       "199756       0          0  \n",
       "199757       0          0  \n",
       "199758       0          0  \n",
       "199759       0          0  \n",
       "199760       0          0  \n",
       "\n",
       "[199761 rows x 6 columns]"
      ]
     },
     "execution_count": 109,
     "metadata": {},
     "output_type": "execute_result"
    }
   ],
   "source": [
    "summary"
   ]
  },
  {
   "cell_type": "markdown",
   "id": "a1d43f91",
   "metadata": {},
   "source": [
    "Finally saving the clean data as csv"
   ]
  },
  {
   "cell_type": "code",
   "execution_count": 110,
   "id": "e719af68",
   "metadata": {},
   "outputs": [],
   "source": [
    "summary.to_csv(\"date_grouped.csv\")"
   ]
  },
  {
   "cell_type": "code",
   "execution_count": null,
   "id": "806326d1",
   "metadata": {},
   "outputs": [],
   "source": []
  }
 ],
 "metadata": {
  "kernelspec": {
   "display_name": "Python 3 (ipykernel)",
   "language": "python",
   "name": "python3"
  },
  "language_info": {
   "codemirror_mode": {
    "name": "ipython",
    "version": 3
   },
   "file_extension": ".py",
   "mimetype": "text/x-python",
   "name": "python",
   "nbconvert_exporter": "python",
   "pygments_lexer": "ipython3",
   "version": "3.8.8"
  }
 },
 "nbformat": 4,
 "nbformat_minor": 5
}
